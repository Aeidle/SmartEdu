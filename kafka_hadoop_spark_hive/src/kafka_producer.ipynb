{
 "cells": [
  {
   "cell_type": "code",
   "execution_count": null,
   "metadata": {},
   "outputs": [
    {
     "name": "stdout",
     "output_type": "stream",
     "text": [
      "New file detected: /SmartEdu_src/videos/video_test.mp4\n",
      "Message delivered to topic: video_files\n",
      "New file detected: /SmartEdu_src/videos/video_test_1.mkv\n",
      "Message delivered to topic: video_files\n"
     ]
    }
   ],
   "source": [
    "from confluent_kafka import Producer\n",
    "import time\n",
    "import os\n",
    "\n",
    "# Kafka configuration\n",
    "KAFKA_BOOTSTRAP_SERVERS = 'localhost:9092'\n",
    "KAFKA_TOPIC = 'video_files'\n",
    "\n",
    "# Create Kafka Producer\n",
    "producer = Producer({'bootstrap.servers': KAFKA_BOOTSTRAP_SERVERS})\n",
    "\n",
    "def delivery_callback(err, msg):\n",
    "    if err:\n",
    "        print('Message delivery failed:', err)\n",
    "    else:\n",
    "        print('Message delivered to topic:', msg.topic())\n",
    "\n",
    "# Function to publish file path to Kafka topic\n",
    "def publish_file_to_kafka(file_path):\n",
    "    producer.produce(KAFKA_TOPIC, file_path.encode('utf-8'), callback=delivery_callback)\n",
    "    producer.flush()\n",
    "\n",
    "# Function to scan the folder for new or modified files\n",
    "def scan_folder(folder_path, processed_files):\n",
    "    files = os.listdir(folder_path)\n",
    "    for file_name in files:\n",
    "        file_path = os.path.join(folder_path, file_name)\n",
    "        if os.path.isfile(file_path):\n",
    "            # Check if the file has already been processed\n",
    "            if file_path not in processed_files:\n",
    "                print(f'New file detected: {file_path}')\n",
    "                publish_file_to_kafka(file_path)\n",
    "                processed_files[file_path] = os.path.getmtime(file_path)\n",
    "            else:\n",
    "                # Check if the file has been modified since the last scan\n",
    "                last_modified_time = os.path.getmtime(file_path)\n",
    "                if last_modified_time > processed_files[file_path]:\n",
    "                    print(f'File modified: {file_path}')\n",
    "                    publish_file_to_kafka(file_path)\n",
    "                    processed_files[file_path] = last_modified_time\n",
    "\n",
    "if __name__ == \"__main__\":\n",
    "    folder_path = '/SmartEdu_src/videos'\n",
    "    processed_files = {}  # Dictionary to store processed files and their last modified time\n",
    "    while True:\n",
    "        scan_folder(folder_path, processed_files)\n",
    "        time.sleep(1)  # Adjust the interval as needed\n"
   ]
  }
 ],
 "metadata": {
  "kernelspec": {
   "display_name": "Python 3 (ipykernel)",
   "language": "python",
   "name": "python3"
  },
  "language_info": {
   "codemirror_mode": {
    "name": "ipython",
    "version": 3
   },
   "file_extension": ".py",
   "mimetype": "text/x-python",
   "name": "python",
   "nbconvert_exporter": "python",
   "pygments_lexer": "ipython3",
   "version": "3.10.12"
  }
 },
 "nbformat": 4,
 "nbformat_minor": 4
}
