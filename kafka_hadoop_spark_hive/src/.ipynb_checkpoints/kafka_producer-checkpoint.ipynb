{
 "cells": [
  {
   "cell_type": "code",
   "execution_count": 3,
   "metadata": {},
   "outputs": [
    {
     "name": "stdout",
     "output_type": "stream",
     "text": [
      "New file detected: /SmartEdu_src/videos/video_test.mp4\n",
      "Message delivered to topic: video_files\n",
      "New file detected: /SmartEdu_src/videos/video_test___adil1234.mp4\n",
      "Message delivered to topic: video_files\n",
      "New file detected: /SmartEdu_src/videos/video_test___test1234.mp4\n",
      "Message delivered to topic: video_files\n"
     ]
    },
    {
     "ename": "FileNotFoundError",
     "evalue": "[Errno 2] No such file or directory: '/SmartEdu_src/videos'",
     "output_type": "error",
     "traceback": [
      "\u001b[0;31m---------------------------------------------------------------------------\u001b[0m",
      "\u001b[0;31mFileNotFoundError\u001b[0m                         Traceback (most recent call last)",
      "Cell \u001b[0;32mIn[3], line 46\u001b[0m\n\u001b[1;32m     44\u001b[0m processed_files \u001b[38;5;241m=\u001b[39m {}  \u001b[38;5;66;03m# Dictionary to store processed files and their last modified time\u001b[39;00m\n\u001b[1;32m     45\u001b[0m \u001b[38;5;28;01mwhile\u001b[39;00m \u001b[38;5;28;01mTrue\u001b[39;00m:\n\u001b[0;32m---> 46\u001b[0m     \u001b[43mscan_folder\u001b[49m\u001b[43m(\u001b[49m\u001b[43mfolder_path\u001b[49m\u001b[43m,\u001b[49m\u001b[43m \u001b[49m\u001b[43mprocessed_files\u001b[49m\u001b[43m)\u001b[49m\n\u001b[1;32m     47\u001b[0m     time\u001b[38;5;241m.\u001b[39msleep(\u001b[38;5;241m1\u001b[39m)  \u001b[38;5;66;03m# Adjust the interval as needed\u001b[39;00m\n",
      "Cell \u001b[0;32mIn[3], line 25\u001b[0m, in \u001b[0;36mscan_folder\u001b[0;34m(folder_path, processed_files)\u001b[0m\n\u001b[1;32m     24\u001b[0m \u001b[38;5;28;01mdef\u001b[39;00m \u001b[38;5;21mscan_folder\u001b[39m(folder_path, processed_files):\n\u001b[0;32m---> 25\u001b[0m     files \u001b[38;5;241m=\u001b[39m \u001b[43mos\u001b[49m\u001b[38;5;241;43m.\u001b[39;49m\u001b[43mlistdir\u001b[49m\u001b[43m(\u001b[49m\u001b[43mfolder_path\u001b[49m\u001b[43m)\u001b[49m\n\u001b[1;32m     26\u001b[0m     \u001b[38;5;28;01mfor\u001b[39;00m file_name \u001b[38;5;129;01min\u001b[39;00m files:\n\u001b[1;32m     27\u001b[0m         file_path \u001b[38;5;241m=\u001b[39m os\u001b[38;5;241m.\u001b[39mpath\u001b[38;5;241m.\u001b[39mjoin(folder_path, file_name)\n",
      "\u001b[0;31mFileNotFoundError\u001b[0m: [Errno 2] No such file or directory: '/SmartEdu_src/videos'"
     ]
    }
   ],
   "source": [
    "from confluent_kafka import Producer\n",
    "import time\n",
    "import os\n",
    "\n",
    "# Kafka configuration\n",
    "KAFKA_BOOTSTRAP_SERVERS = 'localhost:9092'\n",
    "KAFKA_TOPIC = 'video_files'\n",
    "\n",
    "# Create Kafka Producer\n",
    "producer = Producer({'bootstrap.servers': KAFKA_BOOTSTRAP_SERVERS})\n",
    "\n",
    "def delivery_callback(err, msg):\n",
    "    if err:\n",
    "        print('Message delivery failed:', err)\n",
    "    else:\n",
    "        print('Message delivered to topic:', msg.topic())\n",
    "\n",
    "# Function to publish file path to Kafka topic\n",
    "def publish_file_to_kafka(file_path):\n",
    "    producer.produce(KAFKA_TOPIC, file_path.encode('utf-8'), callback=delivery_callback)\n",
    "    producer.flush()\n",
    "\n",
    "# Function to scan the folder for new or modified files\n",
    "def scan_folder(folder_path, processed_files):\n",
    "    files = os.listdir(folder_path)\n",
    "    for file_name in files:\n",
    "        file_path = os.path.join(folder_path, file_name)\n",
    "        if os.path.isfile(file_path):\n",
    "            # Check if the file has already been processed\n",
    "            if file_path not in processed_files:\n",
    "                print(f'New file detected: {file_path}')\n",
    "                publish_file_to_kafka(file_path)\n",
    "                processed_files[file_path] = os.path.getmtime(file_path)\n",
    "            else:\n",
    "                # Check if the file has been modified since the last scan\n",
    "                last_modified_time = os.path.getmtime(file_path)\n",
    "                if last_modified_time > processed_files[file_path]:\n",
    "                    print(f'File modified: {file_path}')\n",
    "                    publish_file_to_kafka(file_path)\n",
    "                    processed_files[file_path] = last_modified_time\n",
    "\n",
    "if __name__ == \"__main__\":\n",
    "    folder_path = '/SmartEdu_src/videos'\n",
    "    processed_files = {}  # Dictionary to store processed files and their last modified time\n",
    "    while True:\n",
    "        scan_folder(folder_path, processed_files)\n",
    "        time.sleep(1)  # Adjust the interval as needed\n"
   ]
  }
 ],
 "metadata": {
  "kernelspec": {
   "display_name": "Python 3 (ipykernel)",
   "language": "python",
   "name": "python3"
  },
  "language_info": {
   "codemirror_mode": {
    "name": "ipython",
    "version": 3
   },
   "file_extension": ".py",
   "mimetype": "text/x-python",
   "name": "python",
   "nbconvert_exporter": "python",
   "pygments_lexer": "ipython3",
   "version": "3.10.12"
  }
 },
 "nbformat": 4,
 "nbformat_minor": 4
}
