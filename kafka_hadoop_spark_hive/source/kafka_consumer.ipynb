{
 "cells": [
  {
   "cell_type": "code",
   "execution_count": null,
   "metadata": {},
   "outputs": [
    {
     "name": "stdout",
     "output_type": "stream",
     "text": [
      "Successfully ingested /SmartEdu_src/videos/video_3682c2970ba5add8d540519b5a8816e9170b37e8daeb20f14f50a1072319d5dd.mp4 into HDFS\n",
      "Successfully ingested /SmartEdu_src/videos/video_64af7ce35393e93f9c9d6b8aac4a8b0f7682ad00a54ec419b19454d7e35a1eff.mp4 into HDFS\n"
     ]
    }
   ],
   "source": [
    "from kafka import KafkaConsumer\n",
    "from hdfs import InsecureClient\n",
    "\n",
    "# Kafka consumer settings\n",
    "bootstrap_servers = 'localhost:9092'\n",
    "topic = 'video_files'\n",
    "\n",
    "# HDFS directory to ingest the video file into\n",
    "hdfs_directory = '/kafka_output'\n",
    "\n",
    "try:\n",
    "    # Connect to HDFS\n",
    "    client = InsecureClient('http://localhost:9870', user='root')\n",
    "except ValueError as e:\n",
    "    print(e)\n",
    "\n",
    "# Create Kafka consumer\n",
    "consumer = KafkaConsumer(topic, bootstrap_servers=bootstrap_servers)\n",
    "\n",
    "\n",
    "\n",
    "# Loop to consume messages\n",
    "for message in consumer:\n",
    "    # Decode the message\n",
    "    file_path = message.value.decode('utf-8')\n",
    "    \n",
    "    # Construct the full local file path\n",
    "    local_file_path = file_path\n",
    "    \n",
    "    # Construct the full HDFS file path\n",
    "    hdfs_file_path = hdfs_directory + \"/\" + file_path.split(\"/\")[-1]\n",
    "    \n",
    "    try:\n",
    "        # Upload the file to HDFS\n",
    "        with open(local_file_path, 'rb') as f:\n",
    "            file_content = f.read()  # Read file content\n",
    "            with client.write(hdfs_file_path, overwrite=True) as writer:\n",
    "                writer.write(file_content)  # Write file content to HDFS\n",
    "        print(f\"Successfully ingested {local_file_path} into HDFS\")\n",
    "    except Exception as e:\n",
    "        print(f\"Failed to ingest {local_file_path} into HDFS. Error: {e}\")\n"
   ]
  }
 ],
 "metadata": {
  "kernelspec": {
   "display_name": "Python 3 (ipykernel)",
   "language": "python",
   "name": "python3"
  },
  "language_info": {
   "codemirror_mode": {
    "name": "ipython",
    "version": 3
   },
   "file_extension": ".py",
   "mimetype": "text/x-python",
   "name": "python",
   "nbconvert_exporter": "python",
   "pygments_lexer": "ipython3",
   "version": "3.10.12"
  }
 },
 "nbformat": 4,
 "nbformat_minor": 4
}
